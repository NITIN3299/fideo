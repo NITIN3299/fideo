{
 "cells": [
  {
   "cell_type": "code",
   "execution_count": 2,
   "metadata": {},
   "outputs": [],
   "source": [
    "# to run this notebook, jupyter notebook is preferred\n",
    "\n",
    "# just open this 'ipynb' file with jupyter notebook, preferably installed through \n",
    "# anaconda environment\n",
    "\n",
    "# in top section, click on 'cells', then 'run all', and you are good to go :)\n",
    "\n",
    "# don't forget to put your input filename in 'encode_file' function"
   ]
  },
  {
   "cell_type": "code",
   "execution_count": 3,
   "metadata": {
    "scrolled": true
   },
   "outputs": [
    {
     "name": "stdout",
     "output_type": "stream",
     "text": [
      "Requirement already satisfied: bitstring in ./anaconda3/lib/python3.8/site-packages (3.1.7)\n",
      "Requirement already satisfied: Pillow in ./anaconda3/lib/python3.8/site-packages (7.2.0)\n",
      "Requirement already satisfied: glob3 in ./anaconda3/lib/python3.8/site-packages (0.0.1)\n",
      "Requirement already satisfied: path.py in ./anaconda3/lib/python3.8/site-packages (12.5.0)\n",
      "Requirement already satisfied: path in ./anaconda3/lib/python3.8/site-packages (from path.py) (13.1.0)\n",
      "Requirement already satisfied: ffmpeg-python in ./anaconda3/lib/python3.8/site-packages (0.2.0)\n",
      "Requirement already satisfied: future in ./anaconda3/lib/python3.8/site-packages (from ffmpeg-python) (0.18.2)\n"
     ]
    }
   ],
   "source": [
    "# installing the required packages\n",
    "\n",
    "!pip install bitstring\n",
    "!pip install Pillow\n",
    "!pip install glob3\n",
    "!pip install path.py\n",
    "!pip install ffmpeg-python"
   ]
  },
  {
   "cell_type": "code",
   "execution_count": 4,
   "metadata": {},
   "outputs": [],
   "source": [
    "# importing required modules\n",
    "\n",
    "# module : to interact with the operating system\n",
    "import os\n",
    "\n",
    "# module :  for high level operations on files and collection of files\n",
    "# helps in automating the copying and removal of files and directories\n",
    "import shutil\n",
    "\n",
    "# module : gzip support for files \n",
    "import gzip\n",
    "\n",
    "# contextlib module :  provides utilities for common tasks involving the 'with' statement\n",
    "from contextlib import ExitStack\n",
    "\n",
    "# bitstring module :  for the creation and analysis of binary data\n",
    "from bitstring import BitArray,Bits\n",
    "\n",
    "# module : python imaging library : support for image processing\n",
    "from PIL import Image\n",
    "\n",
    "# module : numerical python : fast and efficient processing for arrays\n",
    "import numpy as np\n",
    "\n",
    "# module : video processing support for python\n",
    "import ffmpeg\n",
    "\n",
    "# module: unix like pathname expansion\n",
    "import glob"
   ]
  },
  {
   "cell_type": "code",
   "execution_count": 5,
   "metadata": {},
   "outputs": [],
   "source": [
    "# encoding part"
   ]
  },
  {
   "cell_type": "code",
   "execution_count": 6,
   "metadata": {},
   "outputs": [],
   "source": [
    "# outline\n",
    "#  1. encoding_setup\n",
    "#  2. compress_file\n",
    "#  3. get_bitarray\n",
    "#  4. generate_frames\n",
    "#  5. generate_video"
   ]
  },
  {
   "cell_type": "code",
   "execution_count": 7,
   "metadata": {},
   "outputs": [],
   "source": [
    "# function: to delete contents of the given folder\n",
    "def rm_dir_content(dir):\n",
    "    for filename in os.listdir(dir):\n",
    "        file_path = os.path.join(dir, filename)\n",
    "        try:\n",
    "            # if it is a file or a symbolic link, delete or unlink the file\n",
    "            if os.path.isfile(file_path) or os.path.islink(file_path):\n",
    "                os.unlink(file_path)\n",
    "                \n",
    "            # if it is a directory, remove directory tree\n",
    "            elif os.path.isdir(file_path):\n",
    "                shutil.rmtree(file_path)\n",
    "        except Exception as e:\n",
    "            print('Failed to delete %s. Reason: %s' % (file_path, e))\n",
    "\n",
    "\n",
    "# making the setup\n",
    "def encoding_setup():\n",
    "    # directory to store intermediate frames to make video file \n",
    "    inframes = './inframes'\n",
    "\n",
    "    # if inframes does not exist, create it\n",
    "    if not os.path.exists(inframes):\n",
    "        os.makedirs(inframes)\n",
    "    \n",
    "    # delete anything present in inframes directory\n",
    "    rm_dir_content(inframes)\n",
    "    \n",
    "    # delete the previous video file by same default name - OUTFILE.mp4\n",
    "    if(os.path.isfile('OUTFILE.mp4')):\n",
    "        os.remove('OUTFILE.mp4')"
   ]
  },
  {
   "cell_type": "code",
   "execution_count": 8,
   "metadata": {},
   "outputs": [],
   "source": [
    "# function : compress a file using gzip compression \n",
    "def compress_file(INPUT):\n",
    "#   os.path.basename() : removes the leading path information of the file and leaves only \n",
    "#   with the actual filename from the complete path\n",
    "#   /home/user/file.txt -> file.txt\n",
    "    print(\"Compressing \" + os.path.basename(INPUT) + \"...\")\n",
    "    \n",
    "#   creates a stack of files so that we can define operations one after the other\n",
    "#   helpful in removing nested 'with' statements\n",
    "    with ExitStack() as stack:\n",
    "        f_in = stack.enter_context(open(INPUT, 'rb'))\n",
    "        f_out = stack.enter_context(gzip.open(INPUT + \".gz\", 'wb'))\n",
    "        shutil.copyfileobj(f_in, f_out)\n",
    "        \n",
    "#       deleting unused objects\n",
    "        del f_in\n",
    "        del f_out\n",
    "        \n",
    "    print(\"Successfully compressed \" + os.path.basename(INPUT))"
   ]
  },
  {
   "cell_type": "code",
   "execution_count": 9,
   "metadata": {},
   "outputs": [],
   "source": [
    "# function : get binary representation of a file\n",
    "def get_bitarray(INPUT):\n",
    "    print(\"Converting \" + os.path.basename(INPUT) + \" to binary form...\")\n",
    "    \n",
    "#   stores the hexdump of the file in a bitstring.BitArray object\n",
    "    bitarray = BitArray(filename = INPUT)\n",
    "#     print(\"Type: \" ,type(bitarray))\n",
    "#     print(\"Hexdump: \", bitarray)\n",
    "\n",
    "    # removing the gzip file after deriving bitarray from it\n",
    "    os.remove(INPUT + \".gz\")\n",
    "    \n",
    "    print(\"Successfully converted \" + os.path.basename(INPUT) + \" to binary form\")\n",
    "\n",
    "#   returns the binary dump of file\n",
    "#     print(\"Bindump: \", bitarray.bin)\n",
    "    return bitarray.bin\n",
    "    "
   ]
  },
  {
   "cell_type": "code",
   "execution_count": 10,
   "metadata": {},
   "outputs": [],
   "source": [
    "# function : generate frames from binstring.BitArray object\n",
    "def generate_frames(bitarray):\n",
    "#   RESOLUTION = (HEIGHT, WIDTH) : resolution of the video\n",
    "    RESOLUTION = (480, 854)\n",
    "    \n",
    "    print(\"Generating frames...\")\n",
    "    \n",
    "    index = 0\n",
    "    frame_num = 0\n",
    "    while(index < len(bitarray)):\n",
    "#       generating a numpy array with the bitarray[index : index + resolution] slice\n",
    "#       with data type as int\n",
    "        pixels = np.fromiter(bitarray[index : index + (RESOLUTION[0] * RESOLUTION[1])], dtype = np.int)\n",
    "        \n",
    "        if(pixels.size < (RESOLUTION[0] * RESOLUTION[1])):\n",
    "            pixels = np.concatenate((pixels, np.zeros((RESOLUTION[0] * RESOLUTION[1]) - pixels.size ,dtype = int)))\n",
    "        \n",
    "#       creating a new instance of 1-bit pixel image with the specified resolution and\n",
    "#       with 1 pixel per byte. tuple denotes (width, height)\n",
    "        image = Image.new(\"1\", (RESOLUTION[1], RESOLUTION[0]))\n",
    "        \n",
    "        image.putdata(pixels)\n",
    "        image.save(\"./inframes/\" + \"frame_\" + str(frame_num) + \".png\")\n",
    "#         print(\"Generated frame: \" + str(frame_num))\n",
    "        \n",
    "        del pixels\n",
    "        del image\n",
    "        frame_num += 1\n",
    "        index += (RESOLUTION[0] * RESOLUTION[1])\n",
    "    \n",
    "    print(\"Successfully generated all frames\")"
   ]
  },
  {
   "cell_type": "code",
   "execution_count": 11,
   "metadata": {},
   "outputs": [],
   "source": [
    "# function : generate video file from frames\n",
    "def generate_video(OUTPUT, FRAMERATE):\n",
    "#     FRAMERATE = 24\n",
    "    print(\"Generating video file...\")\n",
    "    \n",
    "    (\n",
    "        ffmpeg\n",
    "        .input('./inframes/frame_%d.png')\n",
    "        .filter('fps', fps=FRAMERATE, round='up')\n",
    "        .output(OUTPUT)\n",
    "        .run()\n",
    "    )\n",
    "#     os.system('ffmpeg -framerate 24 -i ./inframes/frame_%d.png output.mp4')\n",
    "    \n",
    "    shutil.rmtree('./inframes')\n",
    "    print(\"Successfully generated video file\")"
   ]
  },
  {
   "cell_type": "code",
   "execution_count": null,
   "metadata": {},
   "outputs": [],
   "source": []
  },
  {
   "cell_type": "code",
   "execution_count": null,
   "metadata": {},
   "outputs": [],
   "source": []
  },
  {
   "cell_type": "code",
   "execution_count": null,
   "metadata": {},
   "outputs": [],
   "source": []
  },
  {
   "cell_type": "code",
   "execution_count": 12,
   "metadata": {},
   "outputs": [],
   "source": [
    "# decoding part"
   ]
  },
  {
   "cell_type": "code",
   "execution_count": 13,
   "metadata": {},
   "outputs": [],
   "source": [
    "# outline\n",
    "#  1. decoding_setup\n",
    "#  2. get_bits_from_video\n",
    "#     1. convert_video_to_frames\n",
    "#     2. convet_image_to_bits\n",
    "#  3. get_file_from_bits"
   ]
  },
  {
   "cell_type": "code",
   "execution_count": 14,
   "metadata": {},
   "outputs": [],
   "source": [
    "# making the setup\n",
    "def decoding_setup():\n",
    "    # directory to store intermediate frames to make video file \n",
    "    outframes = './outframes'\n",
    "\n",
    "    # first removing the directory if it contains anything\n",
    "    if(os.path.isdir(outframes)):\n",
    "        shutil.rmtree(outframes)\n",
    "    \n",
    "    os.makedirs(outframes)"
   ]
  },
  {
   "cell_type": "code",
   "execution_count": 15,
   "metadata": {},
   "outputs": [],
   "source": [
    "def convert_video_to_frames(INPUT, FRAMERATE):\n",
    "    print(\"Converting video file to respective frames...\")\n",
    "    \n",
    "    (\n",
    "        ffmpeg\n",
    "        .input(INPUT)\n",
    "        .filter('fps', fps=FRAMERATE, round='down')\n",
    "        .output('./outframes/frame_%d.png')\n",
    "        .run()\n",
    "    )\n",
    "    \n",
    "    print(\"Successfully generated all frames\")"
   ]
  },
  {
   "cell_type": "code",
   "execution_count": 16,
   "metadata": {},
   "outputs": [],
   "source": [
    "def convert_image_to_bits(imagepath):\n",
    "    image = Image.open(imagepath)\n",
    "    width, height = image.size\n",
    "    bits = \"\"\n",
    "    pixels = image.load()\n",
    "    del image\n",
    "    \n",
    "    for j in range(height):\n",
    "        for i in range(width):\n",
    "            pixel = pixels[i, j]\n",
    "            pixel_bin_rep = \"0\"\n",
    "            \n",
    "#           if white difference is smaller then black difference, then \n",
    "#           pixel_bin_rep must be \"1\"\n",
    "            if (abs(pixel[0] - 255) < abs(pixel[0] - 0)\n",
    "            and abs(pixel[1] - 255) < abs(pixel[1] - 0)\n",
    "            and abs(pixel[2] - 255) < abs(pixel[2] - 0)):\n",
    "                pixel_bin_rep = \"1\"\n",
    "                \n",
    "            bits += str(pixel_bin_rep)\n",
    "    del pixels\n",
    "    return bits"
   ]
  },
  {
   "cell_type": "code",
   "execution_count": 17,
   "metadata": {},
   "outputs": [],
   "source": [
    "def get_bits_from_video(videopath, FRAMERATE):\n",
    "    print(\"Getting bits from video file...\")\n",
    "    \n",
    "    convert_video_to_frames(videopath, FRAMERATE)\n",
    "    \n",
    "    bits = \"\"\n",
    "    \n",
    "    for image in sorted(glob.glob(\"./outframes/*.png\")):\n",
    "        bits += convert_image_to_bits(image)\n",
    "    \n",
    "    shutil.rmtree('./outframes')\n",
    "    print(\"Successfully retrieved bits from video file\")\n",
    "    \n",
    "    return bits"
   ]
  },
  {
   "cell_type": "code",
   "execution_count": 18,
   "metadata": {},
   "outputs": [],
   "source": [
    "def get_file_from_bits(bits, OUTPUT):\n",
    "    print(\"Generating file from bits...\")\n",
    "    \n",
    "    bitstring = Bits(bin = bits)\n",
    "    bitstring = BitArray(bitstring)\n",
    "    \n",
    "    \n",
    "    with open(OUTPUT, 'wb') as outfile:\n",
    "        bitstring.tofile(outfile)\n",
    "        \n",
    "    del bitstring\n",
    "    \n",
    "    print(\"Successfully retrieved the file\")"
   ]
  },
  {
   "cell_type": "code",
   "execution_count": null,
   "metadata": {},
   "outputs": [],
   "source": []
  },
  {
   "cell_type": "code",
   "execution_count": null,
   "metadata": {},
   "outputs": [],
   "source": []
  },
  {
   "cell_type": "code",
   "execution_count": null,
   "metadata": {},
   "outputs": [],
   "source": []
  },
  {
   "cell_type": "code",
   "execution_count": 19,
   "metadata": {},
   "outputs": [],
   "source": [
    "# actual function to encode files\n",
    "def encode_file(INPUT, OUTPUT = 'OUTFILE.mp4'):\n",
    "    FRAMERATE = 24\n",
    "    \n",
    "    encoding_setup()\n",
    "    compress_file(INPUT)\n",
    "    bitarray = get_bitarray(INPUT)\n",
    "    generate_frames(bitarray)\n",
    "    generate_video(OUTPUT, FRAMERATE)"
   ]
  },
  {
   "cell_type": "code",
   "execution_count": 20,
   "metadata": {},
   "outputs": [],
   "source": [
    "#actual function to decode files\n",
    "def decode_file(videopath, OUTPUT = 'OUTFILE.gz'):\n",
    "    FRAMERATE = 24\n",
    "    \n",
    "    decoding_setup()\n",
    "    bits = get_bits_from_video(videopath, FRAMERATE)\n",
    "    get_file_from_bits(bits, OUTPUT)"
   ]
  },
  {
   "cell_type": "code",
   "execution_count": 23,
   "metadata": {},
   "outputs": [
    {
     "name": "stdout",
     "output_type": "stream",
     "text": [
      "Compressing hello_world.zip...\n",
      "Successfully compressed hello_world.zip\n",
      "Converting hello_world.zip to binary form...\n",
      "Successfully converted hello_world.zip to binary form\n",
      "Generating frames...\n",
      "Successfully generated all frames\n",
      "Generating video file...\n",
      "Successfully generated video file\n"
     ]
    }
   ],
   "source": [
    "encode_file('hello_world.zip')"
   ]
  },
  {
   "cell_type": "code",
   "execution_count": 24,
   "metadata": {},
   "outputs": [
    {
     "name": "stdout",
     "output_type": "stream",
     "text": [
      "Getting bits from video file...\n",
      "Converting video file to respective frames...\n",
      "Successfully generated all frames\n",
      "Successfully retrieved bits from video file\n",
      "Generating file from bits...\n",
      "Successfully retrieved the file\n"
     ]
    }
   ],
   "source": [
    "decode_file('OUTFILE.mp4', 'out.zip')"
   ]
  },
  {
   "cell_type": "code",
   "execution_count": null,
   "metadata": {},
   "outputs": [],
   "source": []
  },
  {
   "cell_type": "code",
   "execution_count": null,
   "metadata": {},
   "outputs": [],
   "source": []
  }
 ],
 "metadata": {
  "kernelspec": {
   "display_name": "Python 3",
   "language": "python",
   "name": "python3"
  },
  "language_info": {
   "codemirror_mode": {
    "name": "ipython",
    "version": 3
   },
   "file_extension": ".py",
   "mimetype": "text/x-python",
   "name": "python",
   "nbconvert_exporter": "python",
   "pygments_lexer": "ipython3",
   "version": "3.8.3"
  }
 },
 "nbformat": 4,
 "nbformat_minor": 4
}
